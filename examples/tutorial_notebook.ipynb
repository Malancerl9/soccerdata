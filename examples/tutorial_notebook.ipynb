{
  "cells": [
    {
      "cell_type": "markdown",
      "metadata": {
        "id": "rtKFT1oSCy1p"
      },
      "source": [
        "# Setup"
      ]
    },
    {
      "cell_type": "markdown",
      "metadata": {
        "id": "enZVuzCHCy1n"
      },
      "source": [
        "**To train neural networks faster, you need to enable GPUs for the notebook:**\n",
        "* Navigate to Edit→Notebook Settings\n",
        "* select GPU from the Hardware Accelerator drop-down"
      ]
    },
    {
      "cell_type": "markdown",
      "metadata": {
        "id": "Sr0lfFYqCy1q"
      },
      "source": [
        "## Installation"
      ]
    },
    {
      "cell_type": "code",
      "execution_count": null,
      "metadata": {
        "id": "d-Zn1o8jCy1q"
      },
      "outputs": [],
      "source": [
        "!pip install pytabkit\n",
        "!pip install openml"
      ]
    },
    {
      "cell_type": "markdown",
      "metadata": {
        "id": "V1Qo43ciCy1r"
      },
      "source": [
        "## Getting a dataset"
      ]
    },
    {
      "cell_type": "code",
      "execution_count": null,
      "metadata": {
        "id": "o-MpREHMCy1r"
      },
      "outputs": [],
      "source": [
        "import openml\n",
        "from sklearn.model_selection import train_test_split\n",
        "import numpy as np\n",
        "\n",
        "task = openml.tasks.get_task(361113) # covertype dataset\n",
        "dataset = openml.datasets.get_dataset(task.dataset_id, download_data=False)\n",
        "X, y, categorical_indicator, attribute_names = dataset.get_data(\n",
        "    dataset_format='dataframe',\n",
        "    target=task.target_name\n",
        ")\n",
        "# we restrict to 15K samples for demonstration purposes\n",
        "index = np.random.choice(range(len(X)), 15_000, replace=False)\n",
        "X = X.iloc[index]\n",
        "y = y.iloc[index]\n",
        "\n",
        "X_train, X_test, y_train, y_test = train_test_split(X, y, random_state=0)"
      ]
    },
    {
      "cell_type": "markdown",
      "metadata": {
        "id": "PeMtLz0ICy1s"
      },
      "source": [
        "# Using RealMLP"
      ]
    },
    {
      "cell_type": "code",
      "execution_count": null,
      "metadata": {
        "colab": {
          "base_uri": "https://localhost:8080/"
        },
        "id": "CgSOr3l0Cy1s",
        "outputId": "d2b0ea97-45ac-4a9e-ff3d-291d72094615"
      },
      "outputs": [
        {
          "name": "stdout",
          "output_type": "stream",
          "text": [
            "Accuracy of RealMLP: 0.8770666666666667\n",
            "CPU times: user 1min 11s, sys: 192 ms, total: 1min 11s\n",
            "Wall time: 1min 11s\n"
          ]
        }
      ],
      "source": [
        "%%time\n",
        "from pytabkit import RealMLP_TD_Classifier\n",
        "from sklearn.metrics import accuracy_score\n",
        "\n",
        "model = RealMLP_TD_Classifier()\n",
        "model.fit(X_train, y_train)\n",
        "\n",
        "y_pred = model.predict(X_test)\n",
        "acc = accuracy_score(y_test, y_pred)\n",
        "print(f\"Accuracy of RealMLP: {acc}\")"
      ]
    },
    {
      "cell_type": "markdown",
      "metadata": {
        "id": "-G8Oblk5Cy1s"
      },
      "source": [
        "## With bagging\n",
        "It is possible to do bagging (ensembling of models on 5-fold cross-validation) simply by passing `n_cv=5` to the constructor. Note that it doesn't take 5x as long because of vectorized training."
      ]
    },
    {
      "cell_type": "code",
      "execution_count": null,
      "metadata": {
        "colab": {
          "base_uri": "https://localhost:8080/"
        },
        "id": "i0NpWvjKCy1s",
        "outputId": "89c07496-fd0e-4f46-ea59-3457f8a35371"
      },
      "outputs": [
        {
          "name": "stdout",
          "output_type": "stream",
          "text": [
            "Accuracy of RealMLP with bagging: 0.8930666666666667\n",
            "CPU times: user 1min 8s, sys: 180 ms, total: 1min 9s\n",
            "Wall time: 1min 8s\n"
          ]
        }
      ],
      "source": [
        "%%time\n",
        "from pytabkit import RealMLP_TD_Classifier\n",
        "from sklearn.metrics import accuracy_score\n",
        "\n",
        "model = RealMLP_TD_Classifier(n_cv=5)\n",
        "model.fit(X_train, y_train)\n",
        "\n",
        "y_pred = model.predict(X_test)\n",
        "acc = accuracy_score(y_test, y_pred)\n",
        "print(f\"Accuracy of RealMLP with bagging: {acc}\")"
      ]
    },
    {
      "cell_type": "markdown",
      "metadata": {
        "id": "KHphiGKBCy1t"
      },
      "source": [
        "## With hyperparameter optimization\n",
        "It is possible to do hyperparameter optimization directly inside a sklearn interface by using the `RealMLP_HPO_Regressor` interface.\n",
        "This is also available for classification, and for other models, for instance `LGBM_HPO_Classifier` or `LGBM_HPO_TPE_Classifier` (to use the Tree-structured Parzen Estimator algorithm)."
      ]
    },
    {
      "cell_type": "code",
      "execution_count": null,
      "metadata": {
        "colab": {
          "base_uri": "https://localhost:8080/"
        },
        "id": "7e4wjdYJCy1t",
        "outputId": "a7ed7867-c808-4ed9-dbc2-badea992eae2"
      },
      "outputs": [
        {
          "name": "stdout",
          "output_type": "stream",
          "text": [
            "Accuracy of RealMLP with 3 steps HPO: 0.8605333333333334\n",
            "CPU times: user 2min 27s, sys: 442 ms, total: 2min 28s\n",
            "Wall time: 2min 28s\n"
          ]
        }
      ],
      "source": [
        "%%time\n",
        "from pytabkit import RealMLP_HPO_Classifier\n",
        "from sklearn.metrics import accuracy_score\n",
        "\n",
        "n_hyperopt_steps = 3 # small number for demonstration purposes\n",
        "model = RealMLP_HPO_Classifier(n_hyperopt_steps=n_hyperopt_steps)\n",
        "model.fit(X_train, y_train)\n",
        "\n",
        "y_pred = model.predict(X_test)\n",
        "acc = accuracy_score(y_test, y_pred)\n",
        "print(f\"Accuracy of RealMLP with {n_hyperopt_steps} steps HPO: {acc}\")"
      ]
    },
    {
      "cell_type": "markdown",
      "metadata": {
        "id": "SB0D5MnbCy1t"
      },
      "source": [
        "# Using improved default for tree based models"
      ]
    },
    {
      "cell_type": "markdown",
      "metadata": {
        "id": "OLulH2rGCy1t"
      },
      "source": [
        "`TD` stands for *tuned defaults*, which are the improved default we propose. `D` stands for *defaults*, which are the libraries defaults."
      ]
    },
    {
      "cell_type": "code",
      "execution_count": null,
      "metadata": {
        "colab": {
          "base_uri": "https://localhost:8080/"
        },
        "id": "UEZU3kaDCy1t",
        "outputId": "1c5bd06f-caf6-499c-8f84-5496db9d0ce6"
      },
      "outputs": [
        {
          "name": "stdout",
          "output_type": "stream",
          "text": [
            "Accuracy of CatBoost_TD_Classifier: 0.8685333333333334\n",
            "Accuracy of CatBoost_D_Classifier: 0.8464\n",
            "Accuracy of LGBM_TD_Classifier: 0.8602666666666666\n",
            "Accuracy of LGBM_D_Classifier: 0.8344\n",
            "Accuracy of XGB_TD_Classifier: 0.8544\n",
            "Accuracy of XGB_D_Classifier: 0.8472\n",
            "CPU times: user 1min 55s, sys: 44.3 s, total: 2min 40s\n",
            "Wall time: 24 s\n"
          ]
        }
      ],
      "source": [
        "%%time\n",
        "from pytabkit import CatBoost_TD_Classifier, CatBoost_D_Classifier, LGBM_TD_Classifier, LGBM_D_Classifier, XGB_TD_Classifier, XGB_D_Classifier\n",
        "\n",
        "for model in [CatBoost_TD_Classifier(), CatBoost_D_Classifier(), LGBM_TD_Classifier(), LGBM_D_Classifier(), XGB_TD_Classifier(), XGB_D_Classifier()]:\n",
        "    model.fit(X_train, y_train)\n",
        "    y_pred = model.predict(X_test)\n",
        "    acc = accuracy_score(y_test, y_pred)\n",
        "    print(f\"Accuracy of {model.__class__.__name__}: {acc}\")\n"
      ]
    },
    {
      "cell_type": "markdown",
      "metadata": {
        "id": "tMzbmtJMCy1t"
      },
      "source": [
        "# Ensembling tuned defaults of tree-based methods and RealMLP: a very good baseline"
      ]
    },
    {
      "cell_type": "code",
      "execution_count": null,
      "metadata": {
        "colab": {
          "base_uri": "https://localhost:8080/"
        },
        "id": "JZJH1sWfCy1t",
        "outputId": "8d059418-5236-4a84-b55a-6829200bb330"
      },
      "outputs": [
        {
          "name": "stdout",
          "output_type": "stream",
          "text": [
            "Accuracy of Ensemble_TD_Classifier: 0.8834666666666666\n",
            "CPU times: user 2min 34s, sys: 38 s, total: 3min 12s\n",
            "Wall time: 1min 30s\n"
          ]
        }
      ],
      "source": [
        "%%time\n",
        "from pytabkit import Ensemble_TD_Classifier\n",
        "\n",
        "model = Ensemble_TD_Classifier()\n",
        "model.fit(X_train, y_train)\n",
        "y_pred = model.predict(X_test)\n",
        "acc = accuracy_score(y_test, y_pred)\n",
        "print(f\"Accuracy of Ensemble_TD_Classifier: {acc}\")"
      ]
    }
  ],
  "metadata": {
    "accelerator": "GPU",
    "colab": {
      "gpuType": "T4",
      "provenance": []
    },
    "kernelspec": {
      "display_name": "Python 3 (ipykernel)",
      "language": "python",
      "name": "python3"
    },
    "language_info": {
      "codemirror_mode": {
        "name": "ipython",
        "version": 3
      },
      "file_extension": ".py",
      "mimetype": "text/x-python",
      "name": "python",
      "nbconvert_exporter": "python",
      "pygments_lexer": "ipython3",
      "version": "undefined.undefined.undefined"
    }
  },
  "nbformat": 4,
  "nbformat_minor": 0
}